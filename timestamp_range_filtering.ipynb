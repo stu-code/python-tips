{
 "cells": [
  {
   "cell_type": "markdown",
   "metadata": {},
   "source": [
    "# Filtering a Time Series Dataframe with a Range Dataframe\n",
    "#### Using Polars and Pandas\n",
    "\n",
    "If you have a large time series that needs to be filtered to valid ranges,\n",
    "   you have a few options available to you. For example, consider two datasets:\n",
    "   \n",
    "   1. A time series dataset which holds timestamps of events sorted in order\n",
    "   2. A range dataset which holds start/end times of valid events sorted in order\n",
    "\n",
    "You need to filter the time series dataset to only the valid ranges within the range dataset.\n",
    "\n",
    "`join_asof` / `merge_asof` will be our tools of choice to solve this problem.\n",
    "\n",
    "For this example, we'll merge approximately **63M rows with 10,000 rows**."
   ]
  },
  {
   "cell_type": "markdown",
   "metadata": {},
   "source": [
    "# Create Sample Data\n",
    "### Time Series Dataframe"
   ]
  },
  {
   "cell_type": "code",
   "execution_count": 20,
   "metadata": {},
   "outputs": [],
   "source": [
    "import polars as pl\n",
    "import pandas as pd\n",
    "import numpy as np\n",
    "from datetime import datetime, timedelta\n",
    "from dateutil.relativedelta import relativedelta\n",
    "\n",
    "np.random.seed(42)\n",
    "\n",
    "end   = datetime.now().replace(microsecond=0)\n",
    "start = end + relativedelta(years=-2)\n",
    "\n",
    "df_timeseries = pl.DataFrame(\n",
    "    {\n",
    "        'timestamp': pl.datetime_range(start, end, interval='1s', eager=True)\n",
    "    }\n",
    ")"
   ]
  },
  {
   "cell_type": "code",
   "execution_count": 21,
   "metadata": {},
   "outputs": [
    {
     "data": {
      "text/html": [
       "<div><style>\n",
       ".dataframe > thead > tr,\n",
       ".dataframe > tbody > tr {\n",
       "  text-align: right;\n",
       "  white-space: pre-wrap;\n",
       "}\n",
       "</style>\n",
       "<small>shape: (63_158_401, 1)</small><table border=\"1\" class=\"dataframe\"><thead><tr><th>timestamp</th></tr><tr><td>datetime[μs]</td></tr></thead><tbody><tr><td>2023-04-25 10:22:14</td></tr><tr><td>2023-04-25 10:22:15</td></tr><tr><td>2023-04-25 10:22:16</td></tr><tr><td>2023-04-25 10:22:17</td></tr><tr><td>2023-04-25 10:22:18</td></tr><tr><td>&hellip;</td></tr><tr><td>2025-04-25 10:22:10</td></tr><tr><td>2025-04-25 10:22:11</td></tr><tr><td>2025-04-25 10:22:12</td></tr><tr><td>2025-04-25 10:22:13</td></tr><tr><td>2025-04-25 10:22:14</td></tr></tbody></table></div>"
      ],
      "text/plain": [
       "shape: (63_158_401, 1)\n",
       "┌─────────────────────┐\n",
       "│ timestamp           │\n",
       "│ ---                 │\n",
       "│ datetime[μs]        │\n",
       "╞═════════════════════╡\n",
       "│ 2023-04-25 10:22:14 │\n",
       "│ 2023-04-25 10:22:15 │\n",
       "│ 2023-04-25 10:22:16 │\n",
       "│ 2023-04-25 10:22:17 │\n",
       "│ 2023-04-25 10:22:18 │\n",
       "│ …                   │\n",
       "│ 2025-04-25 10:22:10 │\n",
       "│ 2025-04-25 10:22:11 │\n",
       "│ 2025-04-25 10:22:12 │\n",
       "│ 2025-04-25 10:22:13 │\n",
       "│ 2025-04-25 10:22:14 │\n",
       "└─────────────────────┘"
      ]
     },
     "execution_count": 21,
     "metadata": {},
     "output_type": "execute_result"
    }
   ],
   "source": [
    "df_timeseries"
   ]
  },
  {
   "cell_type": "markdown",
   "metadata": {},
   "source": [
    "# Create Sample Data\n",
    "### Range Dataframe\n",
    "\n",
    "Every 2 hours, create an interval up to 30 minutes long."
   ]
  },
  {
   "cell_type": "code",
   "execution_count": 22,
   "metadata": {},
   "outputs": [],
   "source": [
    "np.random.seed(42)\n",
    "\n",
    "start_times = [start.replace(minute=0, second=0, microsecond=0) + timedelta(hours = i*2) for i in range(10000)]\n",
    "end_times   = [start + timedelta(seconds=np.random.randint(0, 1801)) for start in start_times]\n",
    "\n",
    "df_ranges = pl.DataFrame(\n",
    "    {\n",
    "        \"start\": start_times,\n",
    "        \"end\": end_times,\n",
    "    }\n",
    ")"
   ]
  },
  {
   "cell_type": "markdown",
   "metadata": {},
   "source": [
    "Confirm that the values are as expected"
   ]
  },
  {
   "cell_type": "code",
   "execution_count": 23,
   "metadata": {},
   "outputs": [
    {
     "data": {
      "text/html": [
       "<div><style>\n",
       ".dataframe > thead > tr,\n",
       ".dataframe > tbody > tr {\n",
       "  text-align: right;\n",
       "  white-space: pre-wrap;\n",
       "}\n",
       "</style>\n",
       "<small>shape: (10_000, 3)</small><table border=\"1\" class=\"dataframe\"><thead><tr><th>start</th><th>end</th><th>dif</th></tr><tr><td>datetime[μs]</td><td>datetime[μs]</td><td>duration[μs]</td></tr></thead><tbody><tr><td>2023-04-25 10:00:00</td><td>2023-04-25 10:18:46</td><td>18m 46s</td></tr><tr><td>2023-04-25 12:00:00</td><td>2023-04-25 12:24:19</td><td>24m 19s</td></tr><tr><td>2023-04-25 14:00:00</td><td>2023-04-25 14:14:20</td><td>14m 20s</td></tr><tr><td>2023-04-25 16:00:00</td><td>2023-04-25 16:21:34</td><td>21m 34s</td></tr><tr><td>2023-04-25 18:00:00</td><td>2023-04-25 18:18:50</td><td>18m 50s</td></tr><tr><td>&hellip;</td><td>&hellip;</td><td>&hellip;</td></tr><tr><td>2025-08-05 08:00:00</td><td>2025-08-05 08:22:02</td><td>22m 2s</td></tr><tr><td>2025-08-05 10:00:00</td><td>2025-08-05 10:25:06</td><td>25m 6s</td></tr><tr><td>2025-08-05 12:00:00</td><td>2025-08-05 12:06:36</td><td>6m 36s</td></tr><tr><td>2025-08-05 14:00:00</td><td>2025-08-05 14:06:33</td><td>6m 33s</td></tr><tr><td>2025-08-05 16:00:00</td><td>2025-08-05 16:18:18</td><td>18m 18s</td></tr></tbody></table></div>"
      ],
      "text/plain": [
       "shape: (10_000, 3)\n",
       "┌─────────────────────┬─────────────────────┬──────────────┐\n",
       "│ start               ┆ end                 ┆ dif          │\n",
       "│ ---                 ┆ ---                 ┆ ---          │\n",
       "│ datetime[μs]        ┆ datetime[μs]        ┆ duration[μs] │\n",
       "╞═════════════════════╪═════════════════════╪══════════════╡\n",
       "│ 2023-04-25 10:00:00 ┆ 2023-04-25 10:18:46 ┆ 18m 46s      │\n",
       "│ 2023-04-25 12:00:00 ┆ 2023-04-25 12:24:19 ┆ 24m 19s      │\n",
       "│ 2023-04-25 14:00:00 ┆ 2023-04-25 14:14:20 ┆ 14m 20s      │\n",
       "│ 2023-04-25 16:00:00 ┆ 2023-04-25 16:21:34 ┆ 21m 34s      │\n",
       "│ 2023-04-25 18:00:00 ┆ 2023-04-25 18:18:50 ┆ 18m 50s      │\n",
       "│ …                   ┆ …                   ┆ …            │\n",
       "│ 2025-08-05 08:00:00 ┆ 2025-08-05 08:22:02 ┆ 22m 2s       │\n",
       "│ 2025-08-05 10:00:00 ┆ 2025-08-05 10:25:06 ┆ 25m 6s       │\n",
       "│ 2025-08-05 12:00:00 ┆ 2025-08-05 12:06:36 ┆ 6m 36s       │\n",
       "│ 2025-08-05 14:00:00 ┆ 2025-08-05 14:06:33 ┆ 6m 33s       │\n",
       "│ 2025-08-05 16:00:00 ┆ 2025-08-05 16:18:18 ┆ 18m 18s      │\n",
       "└─────────────────────┴─────────────────────┴──────────────┘"
      ]
     },
     "execution_count": 23,
     "metadata": {},
     "output_type": "execute_result"
    }
   ],
   "source": [
    "df_ranges.with_columns(\n",
    "    dif = pl.col('end') - pl.col('start')\n",
    ")"
   ]
  },
  {
   "cell_type": "markdown",
   "metadata": {},
   "source": [
    "# Filter Dataframe with Polars\n",
    "\n",
    "`join_asof` makes easy work of this. \n",
    "\n",
    "First we'll join by the start timestamp to get the nearest start that is ≤ `timestamp`. Then we'll only keep timestamps that actually fall within the matched `[start, end]` interval. `join_asof` only guarantees `timestamp ≥ start`, while the final filtering step guarantees that `timestamp ≤ end`."
   ]
  },
  {
   "cell_type": "code",
   "execution_count": 24,
   "metadata": {},
   "outputs": [],
   "source": [
    "df_filtered = (\n",
    "    df_timeseries.join_asof(\n",
    "        df_ranges,\n",
    "        left_on  = 'timestamp',\n",
    "        right_on = 'start',\n",
    "        strategy = 'backward'\n",
    "    )\n",
    "    .filter(\n",
    "        pl.col('timestamp') <= pl.col('end')\n",
    "    )\n",
    ")"
   ]
  },
  {
   "cell_type": "code",
   "execution_count": 25,
   "metadata": {},
   "outputs": [
    {
     "data": {
      "text/html": [
       "<div><style>\n",
       ".dataframe > thead > tr,\n",
       ".dataframe > tbody > tr {\n",
       "  text-align: right;\n",
       "  white-space: pre-wrap;\n",
       "}\n",
       "</style>\n",
       "<small>shape: (7_967_239, 3)</small><table border=\"1\" class=\"dataframe\"><thead><tr><th>timestamp</th><th>start</th><th>end</th></tr><tr><td>datetime[μs]</td><td>datetime[μs]</td><td>datetime[μs]</td></tr></thead><tbody><tr><td>2023-04-25 12:00:00</td><td>2023-04-25 12:00:00</td><td>2023-04-25 12:24:19</td></tr><tr><td>2023-04-25 12:00:01</td><td>2023-04-25 12:00:00</td><td>2023-04-25 12:24:19</td></tr><tr><td>2023-04-25 12:00:02</td><td>2023-04-25 12:00:00</td><td>2023-04-25 12:24:19</td></tr><tr><td>2023-04-25 12:00:03</td><td>2023-04-25 12:00:00</td><td>2023-04-25 12:24:19</td></tr><tr><td>2023-04-25 12:00:04</td><td>2023-04-25 12:00:00</td><td>2023-04-25 12:24:19</td></tr><tr><td>&hellip;</td><td>&hellip;</td><td>&hellip;</td></tr><tr><td>2025-04-25 10:10:42</td><td>2025-04-25 10:00:00</td><td>2025-04-25 10:10:46</td></tr><tr><td>2025-04-25 10:10:43</td><td>2025-04-25 10:00:00</td><td>2025-04-25 10:10:46</td></tr><tr><td>2025-04-25 10:10:44</td><td>2025-04-25 10:00:00</td><td>2025-04-25 10:10:46</td></tr><tr><td>2025-04-25 10:10:45</td><td>2025-04-25 10:00:00</td><td>2025-04-25 10:10:46</td></tr><tr><td>2025-04-25 10:10:46</td><td>2025-04-25 10:00:00</td><td>2025-04-25 10:10:46</td></tr></tbody></table></div>"
      ],
      "text/plain": [
       "shape: (7_967_239, 3)\n",
       "┌─────────────────────┬─────────────────────┬─────────────────────┐\n",
       "│ timestamp           ┆ start               ┆ end                 │\n",
       "│ ---                 ┆ ---                 ┆ ---                 │\n",
       "│ datetime[μs]        ┆ datetime[μs]        ┆ datetime[μs]        │\n",
       "╞═════════════════════╪═════════════════════╪═════════════════════╡\n",
       "│ 2023-04-25 12:00:00 ┆ 2023-04-25 12:00:00 ┆ 2023-04-25 12:24:19 │\n",
       "│ 2023-04-25 12:00:01 ┆ 2023-04-25 12:00:00 ┆ 2023-04-25 12:24:19 │\n",
       "│ 2023-04-25 12:00:02 ┆ 2023-04-25 12:00:00 ┆ 2023-04-25 12:24:19 │\n",
       "│ 2023-04-25 12:00:03 ┆ 2023-04-25 12:00:00 ┆ 2023-04-25 12:24:19 │\n",
       "│ 2023-04-25 12:00:04 ┆ 2023-04-25 12:00:00 ┆ 2023-04-25 12:24:19 │\n",
       "│ …                   ┆ …                   ┆ …                   │\n",
       "│ 2025-04-25 10:10:42 ┆ 2025-04-25 10:00:00 ┆ 2025-04-25 10:10:46 │\n",
       "│ 2025-04-25 10:10:43 ┆ 2025-04-25 10:00:00 ┆ 2025-04-25 10:10:46 │\n",
       "│ 2025-04-25 10:10:44 ┆ 2025-04-25 10:00:00 ┆ 2025-04-25 10:10:46 │\n",
       "│ 2025-04-25 10:10:45 ┆ 2025-04-25 10:00:00 ┆ 2025-04-25 10:10:46 │\n",
       "│ 2025-04-25 10:10:46 ┆ 2025-04-25 10:00:00 ┆ 2025-04-25 10:10:46 │\n",
       "└─────────────────────┴─────────────────────┴─────────────────────┘"
      ]
     },
     "execution_count": 25,
     "metadata": {},
     "output_type": "execute_result"
    }
   ],
   "source": [
    "df_filtered"
   ]
  },
  {
   "cell_type": "markdown",
   "metadata": {},
   "source": [
    "# Filter Dataframe with Pandas\n",
    "\n",
    "Let's take a look at how you do this in Pandas. Note that the performance is significantly slower."
   ]
  },
  {
   "cell_type": "code",
   "execution_count": 26,
   "metadata": {},
   "outputs": [],
   "source": [
    "df_timeseries_pd = df_timeseries.to_pandas()\n",
    "df_ranges_pd     = df_ranges.to_pandas()"
   ]
  },
  {
   "cell_type": "code",
   "execution_count": 27,
   "metadata": {},
   "outputs": [],
   "source": [
    "df_filtered_pd = (\n",
    "    pd.merge_asof(\n",
    "        df_timeseries_pd,\n",
    "        df_ranges_pd,\n",
    "        left_on  = 'timestamp',\n",
    "        right_on = 'start',\n",
    "        direction= 'backward'\n",
    "    )\n",
    "    .query('timestamp <= end')\n",
    ")"
   ]
  },
  {
   "cell_type": "markdown",
   "metadata": {},
   "source": [
    "# Confirm\n",
    "### Do they both produce the same dataframe?"
   ]
  },
  {
   "cell_type": "code",
   "execution_count": 28,
   "metadata": {},
   "outputs": [
    {
     "name": "stdout",
     "output_type": "stream",
     "text": [
      "Are the two methods equal?\n",
      "True\n"
     ]
    }
   ],
   "source": [
    "print(f'Are the two methods equal?\\n{df_filtered.equals(pl.DataFrame(df_filtered_pd))}')"
   ]
  }
 ],
 "metadata": {
  "kernelspec": {
   "display_name": "Python 3",
   "language": "python",
   "name": "python3"
  },
  "language_info": {
   "codemirror_mode": {
    "name": "ipython",
    "version": 3
   },
   "file_extension": ".py",
   "mimetype": "text/x-python",
   "name": "python",
   "nbconvert_exporter": "python",
   "pygments_lexer": "ipython3",
   "version": "3.11.9"
  }
 },
 "nbformat": 4,
 "nbformat_minor": 2
}
