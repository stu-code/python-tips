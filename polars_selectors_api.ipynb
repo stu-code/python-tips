{
 "cells": [
  {
   "cell_type": "code",
   "execution_count": null,
   "metadata": {},
   "outputs": [],
   "source": [
    "'''\n",
    "                         ,/(/*.                 \n",
    "                   (((((((((((((((((            \n",
    "                  /((   (((((((((((##           \n",
    "                  /(((((((((((((#####           \n",
    "             ,/////////(/(((((####### .....     \n",
    "          ((((((((((((((((((######### ........  \n",
    "         (((((((((((((((((########### ........  \n",
    "        .(((((((((((((((###########* .......... \n",
    "        /((((((((((*             .............. \n",
    "         ((((((((( ............................ \n",
    "         (((((((( ............................  \n",
    "           (((((#  ........................,.   \n",
    "                  ...................           \n",
    "                  ..............  ...           \n",
    "                   ............   .,,           \n",
    "                     ..,..........     \n",
    "             \n",
    "                Python Tip Friday: 11/01/2024\n",
    "                    polars selectors API\n",
    "\n",
    "    polars has an extremely convenient API to select columns of different types.\n",
    "    Normally you can select columns in Polars by specifying the name, pattern, type, or\n",
    "    by using pl.all(). The selectors API expands on this by giving you a set of convenient\n",
    "    functions that select columns for you. For example, you can select all columns\n",
    "    that start with \"date,\" or you can select all numeric columns which include\n",
    "    int16, int32, float32, and float64. Let's run through a few examples to see how\n",
    "    convenient this is.\n",
    "    ----------------------------------------------------\n",
    "    Stu Sztukowski | https://linkedin.com/in/StatsGuy\n",
    "                   | https://github.com/stu-code\n",
    "'''"
   ]
  },
  {
   "cell_type": "code",
   "execution_count": 15,
   "metadata": {},
   "outputs": [],
   "source": [
    "import polars as pl\n",
    "import polars.selectors as cs\n",
    "\n",
    "df=pl.DataFrame(\n",
    "    schema={\n",
    "        \"int16\":    pl.Int16,\n",
    "        \"int32\":    pl.Int32,\n",
    "        \"float32\":  pl.Float32,\n",
    "        \"float64\":  pl.Float64,\n",
    "        \"bool\":     pl.Boolean,\n",
    "        \"string\":   pl.String,\n",
    "        \"cat\":      pl.Categorical,\n",
    "        \"date\":     pl.Date,\n",
    "        \"datetime\": pl.Datetime,\n",
    "        \"time\":     pl.Time,\n",
    "        \"dur\":      pl.Duration,\n",
    "    },\n",
    ")"
   ]
  },
  {
   "cell_type": "markdown",
   "metadata": {},
   "source": [
    "One way of selecting columns in Polars is to specify the specific column types that you want to select. For example, if we wanted to select all numeric columns, we would have to specify each one: \n",
    "- Int16\n",
    "- Int32\n",
    "- Float32\n",
    "- Float64"
   ]
  },
  {
   "cell_type": "code",
   "execution_count": 8,
   "metadata": {},
   "outputs": [
    {
     "data": {
      "text/html": [
       "<div><style>\n",
       ".dataframe > thead > tr,\n",
       ".dataframe > tbody > tr {\n",
       "  text-align: right;\n",
       "  white-space: pre-wrap;\n",
       "}\n",
       "</style>\n",
       "<small>shape: (0, 4)</small><table border=\"1\" class=\"dataframe\"><thead><tr><th>int16</th><th>int32</th><th>float32</th><th>float64</th></tr><tr><td>i16</td><td>i32</td><td>f32</td><td>f64</td></tr></thead><tbody></tbody></table></div>"
      ],
      "text/plain": [
       "shape: (0, 4)\n",
       "┌───────┬───────┬─────────┬─────────┐\n",
       "│ int16 ┆ int32 ┆ float32 ┆ float64 │\n",
       "│ ---   ┆ ---   ┆ ---     ┆ ---     │\n",
       "│ i16   ┆ i32   ┆ f32     ┆ f64     │\n",
       "╞═══════╪═══════╪═════════╪═════════╡\n",
       "└───────┴───────┴─────────┴─────────┘"
      ]
     },
     "execution_count": 8,
     "metadata": {},
     "output_type": "execute_result"
    }
   ],
   "source": [
    "df.select(\n",
    "    [pl.col(pl.Int16), pl.col(pl.Int32), pl.col(pl.Float32), pl.col(pl.Float64)]\n",
    ")"
   ]
  },
  {
   "cell_type": "markdown",
   "metadata": {},
   "source": [
    "But this is tedious if we want to do something like select all numbers. We can instead use the selectors API to very easily do this."
   ]
  },
  {
   "cell_type": "code",
   "execution_count": 11,
   "metadata": {},
   "outputs": [
    {
     "data": {
      "text/html": [
       "<div><style>\n",
       ".dataframe > thead > tr,\n",
       ".dataframe > tbody > tr {\n",
       "  text-align: right;\n",
       "  white-space: pre-wrap;\n",
       "}\n",
       "</style>\n",
       "<small>shape: (0, 4)</small><table border=\"1\" class=\"dataframe\"><thead><tr><th>int16</th><th>int32</th><th>float32</th><th>float64</th></tr><tr><td>i16</td><td>i32</td><td>f32</td><td>f64</td></tr></thead><tbody></tbody></table></div>"
      ],
      "text/plain": [
       "shape: (0, 4)\n",
       "┌───────┬───────┬─────────┬─────────┐\n",
       "│ int16 ┆ int32 ┆ float32 ┆ float64 │\n",
       "│ ---   ┆ ---   ┆ ---     ┆ ---     │\n",
       "│ i16   ┆ i32   ┆ f32     ┆ f64     │\n",
       "╞═══════╪═══════╪═════════╪═════════╡\n",
       "└───────┴───────┴─────────┴─────────┘"
      ]
     },
     "execution_count": 11,
     "metadata": {},
     "output_type": "execute_result"
    }
   ],
   "source": [
    "df.select(\n",
    "    cs.numeric()\n",
    ")"
   ]
  },
  {
   "cell_type": "markdown",
   "metadata": {},
   "source": [
    "We can even combine values with OR operations."
   ]
  },
  {
   "cell_type": "code",
   "execution_count": 17,
   "metadata": {},
   "outputs": [
    {
     "data": {
      "text/html": [
       "<div><style>\n",
       ".dataframe > thead > tr,\n",
       ".dataframe > tbody > tr {\n",
       "  text-align: right;\n",
       "  white-space: pre-wrap;\n",
       "}\n",
       "</style>\n",
       "<small>shape: (0, 2)</small><table border=\"1\" class=\"dataframe\"><thead><tr><th>string</th><th>cat</th></tr><tr><td>str</td><td>cat</td></tr></thead><tbody></tbody></table></div>"
      ],
      "text/plain": [
       "shape: (0, 2)\n",
       "┌────────┬─────┐\n",
       "│ string ┆ cat │\n",
       "│ ---    ┆ --- │\n",
       "│ str    ┆ cat │\n",
       "╞════════╪═════╡\n",
       "└────────┴─────┘"
      ]
     },
     "execution_count": 17,
     "metadata": {},
     "output_type": "execute_result"
    }
   ],
   "source": [
    "df.select(\n",
    "    cs.string() | cs.categorical()\n",
    ")"
   ]
  },
  {
   "cell_type": "markdown",
   "metadata": {},
   "source": [
    "Here are some other ways you can use the selectors API to quickly select columns."
   ]
  },
  {
   "cell_type": "code",
   "execution_count": 18,
   "metadata": {},
   "outputs": [
    {
     "data": {
      "text/html": [
       "<div><style>\n",
       ".dataframe > thead > tr,\n",
       ".dataframe > tbody > tr {\n",
       "  text-align: right;\n",
       "  white-space: pre-wrap;\n",
       "}\n",
       "</style>\n",
       "<small>shape: (0, 3)</small><table border=\"1\" class=\"dataframe\"><thead><tr><th>date</th><th>datetime</th><th>dur</th></tr><tr><td>date</td><td>datetime[μs]</td><td>duration[μs]</td></tr></thead><tbody></tbody></table></div>"
      ],
      "text/plain": [
       "shape: (0, 3)\n",
       "┌──────┬──────────────┬──────────────┐\n",
       "│ date ┆ datetime     ┆ dur          │\n",
       "│ ---  ┆ ---          ┆ ---          │\n",
       "│ date ┆ datetime[μs] ┆ duration[μs] │\n",
       "╞══════╪══════════════╪══════════════╡\n",
       "└──────┴──────────────┴──────────────┘"
      ]
     },
     "execution_count": 18,
     "metadata": {},
     "output_type": "execute_result"
    }
   ],
   "source": [
    "# Columns that start with 'd'\n",
    "df.select(\n",
    "    cs.starts_with('d')\n",
    ")"
   ]
  },
  {
   "cell_type": "code",
   "execution_count": 27,
   "metadata": {},
   "outputs": [
    {
     "data": {
      "text/html": [
       "<div><style>\n",
       ".dataframe > thead > tr,\n",
       ".dataframe > tbody > tr {\n",
       "  text-align: right;\n",
       "  white-space: pre-wrap;\n",
       "}\n",
       "</style>\n",
       "<small>shape: (0, 2)</small><table border=\"1\" class=\"dataframe\"><thead><tr><th>date</th><th>datetime</th></tr><tr><td>date</td><td>datetime[μs]</td></tr></thead><tbody></tbody></table></div>"
      ],
      "text/plain": [
       "shape: (0, 2)\n",
       "┌──────┬──────────────┐\n",
       "│ date ┆ datetime     │\n",
       "│ ---  ┆ ---          │\n",
       "│ date ┆ datetime[μs] │\n",
       "╞══════╪══════════════╡\n",
       "└──────┴──────────────┘"
      ]
     },
     "execution_count": 27,
     "metadata": {},
     "output_type": "execute_result"
    }
   ],
   "source": [
    "# Columns whose name contains the string 'ate'\n",
    "df.select(\n",
    "    cs.contains('ate')\n",
    ")"
   ]
  },
  {
   "cell_type": "code",
   "execution_count": 19,
   "metadata": {},
   "outputs": [
    {
     "data": {
      "text/html": [
       "<div><style>\n",
       ".dataframe > thead > tr,\n",
       ".dataframe > tbody > tr {\n",
       "  text-align: right;\n",
       "  white-space: pre-wrap;\n",
       "}\n",
       "</style>\n",
       "<small>shape: (0, 10)</small><table border=\"1\" class=\"dataframe\"><thead><tr><th>int16</th><th>int32</th><th>float32</th><th>float64</th><th>bool</th><th>string</th><th>cat</th><th>date</th><th>datetime</th><th>time</th></tr><tr><td>i16</td><td>i32</td><td>f32</td><td>f64</td><td>bool</td><td>str</td><td>cat</td><td>date</td><td>datetime[μs]</td><td>time</td></tr></thead><tbody></tbody></table></div>"
      ],
      "text/plain": [
       "shape: (0, 10)\n",
       "┌───────┬───────┬─────────┬─────────┬───┬─────┬──────┬──────────────┬──────┐\n",
       "│ int16 ┆ int32 ┆ float32 ┆ float64 ┆ … ┆ cat ┆ date ┆ datetime     ┆ time │\n",
       "│ ---   ┆ ---   ┆ ---     ┆ ---     ┆   ┆ --- ┆ ---  ┆ ---          ┆ ---  │\n",
       "│ i16   ┆ i32   ┆ f32     ┆ f64     ┆   ┆ cat ┆ date ┆ datetime[μs] ┆ time │\n",
       "╞═══════╪═══════╪═════════╪═════════╪═══╪═════╪══════╪══════════════╪══════╡\n",
       "└───────┴───────┴─────────┴─────────┴───┴─────┴──────┴──────────────┴──────┘"
      ]
     },
     "execution_count": 19,
     "metadata": {},
     "output_type": "execute_result"
    }
   ],
   "source": [
    "# Everything except Duration columns\n",
    "df.select(\n",
    "    cs.exclude(pl.Duration)\n",
    ")"
   ]
  },
  {
   "cell_type": "code",
   "execution_count": 21,
   "metadata": {},
   "outputs": [
    {
     "data": {
      "text/html": [
       "<div><style>\n",
       ".dataframe > thead > tr,\n",
       ".dataframe > tbody > tr {\n",
       "  text-align: right;\n",
       "  white-space: pre-wrap;\n",
       "}\n",
       "</style>\n",
       "<small>shape: (0, 2)</small><table border=\"1\" class=\"dataframe\"><thead><tr><th>int16</th><th>dur</th></tr><tr><td>i16</td><td>duration[μs]</td></tr></thead><tbody></tbody></table></div>"
      ],
      "text/plain": [
       "shape: (0, 2)\n",
       "┌───────┬──────────────┐\n",
       "│ int16 ┆ dur          │\n",
       "│ ---   ┆ ---          │\n",
       "│ i16   ┆ duration[μs] │\n",
       "╞═══════╪══════════════╡\n",
       "└───────┴──────────────┘"
      ]
     },
     "execution_count": 21,
     "metadata": {},
     "output_type": "execute_result"
    }
   ],
   "source": [
    "# First or last column\n",
    "df.select(\n",
    "    cs.first() | cs.last()\n",
    ")"
   ]
  },
  {
   "cell_type": "code",
   "execution_count": 29,
   "metadata": {},
   "outputs": [
    {
     "data": {
      "text/html": [
       "<div><style>\n",
       ".dataframe > thead > tr,\n",
       ".dataframe > tbody > tr {\n",
       "  text-align: right;\n",
       "  white-space: pre-wrap;\n",
       "}\n",
       "</style>\n",
       "<small>shape: (0, 2)</small><table border=\"1\" class=\"dataframe\"><thead><tr><th>date</th><th>datetime</th></tr><tr><td>date</td><td>datetime[μs]</td></tr></thead><tbody></tbody></table></div>"
      ],
      "text/plain": [
       "shape: (0, 2)\n",
       "┌──────┬──────────────┐\n",
       "│ date ┆ datetime     │\n",
       "│ ---  ┆ ---          │\n",
       "│ date ┆ datetime[μs] │\n",
       "╞══════╪══════════════╡\n",
       "└──────┴──────────────┘"
      ]
     },
     "execution_count": 29,
     "metadata": {},
     "output_type": "execute_result"
    }
   ],
   "source": [
    "#  All temporal calumns that have the word 'date'\n",
    "df.select(\n",
    "    cs.temporal() & cs.matches('date')\n",
    ")"
   ]
  },
  {
   "cell_type": "code",
   "execution_count": 31,
   "metadata": {},
   "outputs": [
    {
     "data": {
      "text/html": [
       "<div><style>\n",
       ".dataframe > thead > tr,\n",
       ".dataframe > tbody > tr {\n",
       "  text-align: right;\n",
       "  white-space: pre-wrap;\n",
       "}\n",
       "</style>\n",
       "<small>shape: (0, 3)</small><table border=\"1\" class=\"dataframe\"><thead><tr><th>bool</th><th>string</th><th>cat</th></tr><tr><td>bool</td><td>str</td><td>cat</td></tr></thead><tbody></tbody></table></div>"
      ],
      "text/plain": [
       "shape: (0, 3)\n",
       "┌──────┬────────┬─────┐\n",
       "│ bool ┆ string ┆ cat │\n",
       "│ ---  ┆ ---    ┆ --- │\n",
       "│ bool ┆ str    ┆ cat │\n",
       "╞══════╪════════╪═════╡\n",
       "└──────┴────────┴─────┘"
      ]
     },
     "execution_count": 31,
     "metadata": {},
     "output_type": "execute_result"
    }
   ],
   "source": [
    "# All alphanumerics except temporal\n",
    "df.select(\n",
    "    cs.alpha() - cs.temporal()\n",
    ")"
   ]
  }
 ],
 "metadata": {
  "kernelspec": {
   "display_name": "py311",
   "language": "python",
   "name": "python3"
  },
  "language_info": {
   "codemirror_mode": {
    "name": "ipython",
    "version": 3
   },
   "file_extension": ".py",
   "mimetype": "text/x-python",
   "name": "python",
   "nbconvert_exporter": "python",
   "pygments_lexer": "ipython3",
   "version": "3.11.9"
  }
 },
 "nbformat": 4,
 "nbformat_minor": 2
}
